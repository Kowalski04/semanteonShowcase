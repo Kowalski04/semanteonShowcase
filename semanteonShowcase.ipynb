{
 "cells": [
  {
   "cell_type": "markdown",
   "id": "9a075bbb-2dd6-49bc-bbd7-532b2c210969",
   "metadata": {},
   "source": [
    "### About this project showcase\n",
    "This notebook samples some of the code that I created in a summer internship for the Boston-based company Semanteon Capital. At this internship, my main project was to research if whether the firm could generate a profit by selling call options on certain long positions we hold. <br> In this specific set of code, I created a grid search over a set of filters and option delta ranges, generating graphs on profit or loss for each example as well as a series of stats on that examples properties. I then consolidated all these stats into a seperate dataframe, saving the graphs for later reference. Overall, this code played a crucial role in my decision on what to filter for, and to what degree to filter for it, in the option data set. Enjoy!"
   ]
  },
  {
   "cell_type": "code",
   "execution_count": 1,
   "id": "74ab10cf-b8e9-4546-8892-f1b85eac4cfd",
   "metadata": {
    "execution": {
     "iopub.execute_input": "2023-08-25T22:56:16.820727Z",
     "iopub.status.busy": "2023-08-25T22:56:16.820304Z",
     "iopub.status.idle": "2023-08-25T22:56:18.564059Z",
     "shell.execute_reply": "2023-08-25T22:56:18.562372Z",
     "shell.execute_reply.started": "2023-08-25T22:56:16.820685Z"
    }
   },
   "outputs": [],
   "source": [
    "# Importing all neccesary libraries\n",
    "import itertools\n",
    "from collections import defaultdict\n",
    "import matplotlib.pyplot as plt\n",
    "import numpy as np\n",
    "import pandas as pd\n",
    "from joblib import Parallel, delayed\n",
    "from IPython.display import Image, display"
   ]
  },
  {
   "cell_type": "code",
   "execution_count": 2,
   "id": "5f5e007f-7a4a-4eb2-b9c3-8c8652e9f024",
   "metadata": {
    "execution": {
     "iopub.execute_input": "2023-08-25T22:56:18.567299Z",
     "iopub.status.busy": "2023-08-25T22:56:18.566803Z",
     "iopub.status.idle": "2023-08-25T22:57:13.610983Z",
     "shell.execute_reply": "2023-08-25T22:57:13.608838Z",
     "shell.execute_reply.started": "2023-08-25T22:56:18.567255Z"
    }
   },
   "outputs": [],
   "source": [
    "# Reading in the sample data\n",
    "all_data = pd.read_parquet(\"data/consolidated_data.parquet\")\n",
    "c_data = all_data[all_data.trade_date < '2019-01-01']"
   ]
  },
  {
   "cell_type": "code",
   "execution_count": 3,
   "id": "b9004c1b-c57c-4401-bd54-29d623274c22",
   "metadata": {
    "execution": {
     "iopub.execute_input": "2023-08-25T22:57:13.613700Z",
     "iopub.status.busy": "2023-08-25T22:57:13.613447Z",
     "iopub.status.idle": "2023-08-25T22:57:13.620252Z",
     "shell.execute_reply": "2023-08-25T22:57:13.619235Z",
     "shell.execute_reply.started": "2023-08-25T22:57:13.613667Z"
    }
   },
   "outputs": [
    {
     "name": "stdout",
     "output_type": "stream",
     "text": [
      "Shape of sample data: (74923558, 43)\n"
     ]
    }
   ],
   "source": [
    "print('Shape of sample data:',c_data.shape)"
   ]
  },
  {
   "cell_type": "code",
   "execution_count": 4,
   "id": "3567e802-0c00-415c-91d3-c67bed1a89ad",
   "metadata": {
    "execution": {
     "iopub.execute_input": "2023-08-25T22:57:13.621677Z",
     "iopub.status.busy": "2023-08-25T22:57:13.621417Z",
     "iopub.status.idle": "2023-08-25T22:57:13.668079Z",
     "shell.execute_reply": "2023-08-25T22:57:13.666801Z",
     "shell.execute_reply.started": "2023-08-25T22:57:13.621652Z"
    }
   },
   "outputs": [],
   "source": [
    "# Defining a deduping process so that no two \n",
    "# trades on the same ticker overlap on trade dates \n",
    "def dedup(df):\n",
    "    max_expirs = defaultdict(lambda: pd.Timestamp.min)\n",
    "    df2 = df.sort_values(by=[\"trade_date\", \"PNLasFrac\"], ascending=[True,True])\n",
    "\n",
    "    def check_keeper(row): \n",
    "        # Helper function which generates mask of what trades to include\n",
    "        # Works by taking in the first available trade date for each ticker, then checking for all following\n",
    "        # options if that options trade date is after the first options expiration date\n",
    "        # If it's after the expiration date, it picks that option and repeats the process\n",
    "        nonlocal max_expirs\n",
    "        if row[\"trade_date\"] > max_expirs[row[\"ticker\"]]:\n",
    "            max_expirs[row[\"ticker\"]] = row[\"expirDate\"]\n",
    "            return True\n",
    "        return False\n",
    "\n",
    "    should_keep = df2.apply(check_keeper, axis=1)\n",
    "    return df2[should_keep]"
   ]
  },
  {
   "cell_type": "code",
   "execution_count": 5,
   "id": "7372e0f7-42dc-4da2-9c6d-903e6faf9460",
   "metadata": {
    "execution": {
     "iopub.execute_input": "2023-08-25T22:57:13.669911Z",
     "iopub.status.busy": "2023-08-25T22:57:13.669542Z",
     "iopub.status.idle": "2023-08-25T22:57:13.680963Z",
     "shell.execute_reply": "2023-08-25T22:57:13.679618Z",
     "shell.execute_reply.started": "2023-08-25T22:57:13.669871Z"
    }
   },
   "outputs": [],
   "source": [
    "# Creating the list of delta ranges I loop through\n",
    "dRanges = (\n",
    "    list(zip(np.arange(0.05, 0.35, 0.05), np.arange(0.10, 0.4, 0.05)))\n",
    "    + list(zip(np.arange(0.05, 0.30, 0.05), np.arange(0.15, 0.40, 0.05)))\n",
    ")\n",
    "dRanges = np.round(dRanges, 3) # "
   ]
  },
  {
   "cell_type": "code",
   "execution_count": 6,
   "id": "efcaaa5f-d66b-4503-9bc2-452cc432d935",
   "metadata": {
    "execution": {
     "iopub.execute_input": "2023-08-25T22:57:13.682790Z",
     "iopub.status.busy": "2023-08-25T22:57:13.682418Z",
     "iopub.status.idle": "2023-08-25T22:57:13.697321Z",
     "shell.execute_reply": "2023-08-25T22:57:13.696237Z",
     "shell.execute_reply.started": "2023-08-25T22:57:13.682752Z"
    }
   },
   "outputs": [
    {
     "data": {
      "text/plain": [
       "array([[0.05, 0.1 ],\n",
       "       [0.1 , 0.15],\n",
       "       [0.15, 0.2 ],\n",
       "       [0.2 , 0.25],\n",
       "       [0.25, 0.3 ],\n",
       "       [0.3 , 0.35],\n",
       "       [0.05, 0.15],\n",
       "       [0.1 , 0.2 ],\n",
       "       [0.15, 0.25],\n",
       "       [0.2 , 0.3 ],\n",
       "       [0.25, 0.35]])"
      ]
     },
     "execution_count": 6,
     "metadata": {},
     "output_type": "execute_result"
    }
   ],
   "source": [
    "dRanges"
   ]
  },
  {
   "cell_type": "code",
   "execution_count": 7,
   "id": "d2e3c8f3-37e4-4ae3-ae70-b499d6e48b99",
   "metadata": {
    "execution": {
     "iopub.execute_input": "2023-08-25T22:57:13.698918Z",
     "iopub.status.busy": "2023-08-25T22:57:13.698599Z",
     "iopub.status.idle": "2023-08-25T22:57:13.708339Z",
     "shell.execute_reply": "2023-08-25T22:57:13.707282Z",
     "shell.execute_reply.started": "2023-08-25T22:57:13.698884Z"
    }
   },
   "outputs": [],
   "source": [
    "# Creating the list of feature pairs to loop through\n",
    "features1 = [\"SignalConfidence\", \"ootmPct\", \"spreadPcnt\", \"av20\", \"mdv20\", \"dummy\", \"waIV\"]\n",
    "features = list(itertools.combinations(features1, 2))"
   ]
  },
  {
   "cell_type": "code",
   "execution_count": 8,
   "id": "abd6dce5-f9aa-4b3a-afc6-fc741fd67847",
   "metadata": {
    "execution": {
     "iopub.execute_input": "2023-08-25T22:57:13.711373Z",
     "iopub.status.busy": "2023-08-25T22:57:13.711036Z",
     "iopub.status.idle": "2023-08-25T22:57:13.726068Z",
     "shell.execute_reply": "2023-08-25T22:57:13.724956Z",
     "shell.execute_reply.started": "2023-08-25T22:57:13.711338Z"
    }
   },
   "outputs": [],
   "source": [
    "# Generating graphs and summary stats for 2 feature filtering \n",
    "def generateGraph(combo, test_df, quantile=0.8):\n",
    "    feature1 = combo[0]\n",
    "    feature2 = combo[1]\n",
    "    color = \"maroon\"\n",
    "    f1Filter = \"N/A\" # The filter for the first feature \n",
    "    f2Filter = \"N/A\" # The filter for the second feature \n",
    "\n",
    "    # Filtering down test_df based on feature restrictions\n",
    "    uniques = [\"SignalConfidence\", \"spreadPcnt\"]\n",
    "    flags = pd.Series(True, index=test_df.index)\n",
    "\n",
    "    if feature1 not in uniques:\n",
    "        if feature1 == \"dummy\":\n",
    "            flags &= test_df.trade_date.dt.day % 2 == 0 \n",
    "        else:\n",
    "            flags &= test_df[feature1] > test_df[feature1].quantile(quantile)\n",
    "            f1Filter = test_df[feature1].quantile(quantile)\n",
    "    else:\n",
    "        if feature1 == \"SignalConfidence\":\n",
    "            flags &= (test_df.SignalConfidence > 0.45) & (\n",
    "                test_df.SignalConfidence < 0.52\n",
    "            )\n",
    "        else:\n",
    "            flags &= test_df.spreadPcnt < test_df.spreadPcnt.quantile(1 - quantile)\n",
    "            f1Filter = test_df.spreadPcnt.quantile(1 - quantile)\n",
    "\n",
    "    if feature2 not in uniques:\n",
    "        if feature2 == \"dummy\":\n",
    "            flags &= test_df.trade_date.dt.day % 2 == 0 \n",
    "        else:\n",
    "            flags &= test_df[feature2] > test_df[feature2].quantile(quantile)\n",
    "            f2Filter = test_df[feature2].quantile(quantile)\n",
    "    else:\n",
    "        flags &= test_df.spreadPcnt < test_df.spreadPcnt.quantile(1 - quantile)\n",
    "        f2Filter = test_df.spreadPcnt.quantile(1 - quantile)\n",
    "\n",
    "    new_df = test_df[flags].copy()\n",
    "\n",
    "    # Saving certain stats for later\n",
    "    newRowCount = new_df.shape[0]\n",
    "    nPossibleDays = new_df.groupby([\"ticker\", \"trade_date\"]).ngroups\n",
    "\n",
    "    # Deduping trades\n",
    "    new_df = dedup(new_df)\n",
    "\n",
    "    # Generating PNL graphs and saving them in /filterGraphs\n",
    "    test_df[\"PNLasFrac\"].plot(\n",
    "        kind=\"hist\",\n",
    "        bins=np.linspace(-5, 1, 101),\n",
    "        density=True,\n",
    "        histtype=\"step\",\n",
    "        title=f\"The effect of filtering for {feature1} and {feature2} on PNL\",\n",
    "    )\n",
    "\n",
    "    new_df[\"PNLasFrac\"].plot(\n",
    "        kind=\"hist\",\n",
    "        bins=np.linspace(-5, 1, 101),\n",
    "        density=True,\n",
    "        histtype=\"step\",\n",
    "        color=color,\n",
    "    )\n",
    "    plt.savefig(f\"filterGraphs/{dRange[0]}-{dRange[1]}_{feature1}&{feature2}.jpg\")\n",
    "    plt.close()\n",
    "\n",
    "    # Adding all info to dataframes\n",
    "    df2 = pd.DataFrame(\n",
    "        data={\n",
    "            \"sample\": f\"{feature1}&{feature2}\",\n",
    "            \"PNLmean\": new_df[new_df.cBidPx != 0][\"PNLasFrac\"].mean(),\n",
    "            \"PNLsum\": new_df.PNL.sum(),\n",
    "            \"pctWins\": new_df[new_df.PNLasFrac > 0].shape[0]\n",
    "            / new_df.shape[0],  # Percentage of trades which earned money\n",
    "            \"winPNLmean\": new_df[new_df.PNLasFrac > 0][\"PNLasFrac\"].mean(), # The mean PNL of positive PNL trades\n",
    "            \"pctRowsLeft\": newRowCount / test_df.shape[0],\n",
    "            \"pctTradeOpportunitiesLeft\": (\n",
    "                nPossibleDays / test_df.groupby([\"ticker\", \"trade_date\"]).ngroups\n",
    "            ),  # Comparing the number of ticker/trade date pairs after filtering\n",
    "            \"numTrades\": new_df.shape[0],\n",
    "            \"f1Filter\": f1Filter,\n",
    "            \"f2Filter\": f2Filter,\n",
    "        },\n",
    "        index=[0],\n",
    "    )\n",
    "\n",
    "    return df2"
   ]
  },
  {
   "cell_type": "code",
   "execution_count": 9,
   "id": "b9762dae-0dfa-4eeb-bdbe-afb7ec63710d",
   "metadata": {
    "execution": {
     "iopub.execute_input": "2023-08-25T22:57:13.727754Z",
     "iopub.status.busy": "2023-08-25T22:57:13.727480Z",
     "iopub.status.idle": "2023-08-25T22:57:13.741856Z",
     "shell.execute_reply": "2023-08-25T22:57:13.740766Z",
     "shell.execute_reply.started": "2023-08-25T22:57:13.727730Z"
    }
   },
   "outputs": [],
   "source": [
    "# Generation function for 1 feature filtering\n",
    "def generateGraph1F(feature1, test_df, quantile=0.8): \n",
    "    color = \"maroon\"\n",
    "    f1Filter = \"N/A\"\n",
    "\n",
    "\n",
    "    uniques = [\"SignalConfidence\", \"spreadPcnt\"]\n",
    "    flags = pd.Series(True, index=test_df.index)\n",
    "\n",
    "    if feature1 not in uniques:\n",
    "        if feature1 == \"dummy\":\n",
    "            flags &= test_df.trade_date.dt.day % 2 == 0 \n",
    "        else:\n",
    "            flags &= test_df[feature1] > test_df[feature1].quantile(quantile)\n",
    "            f1Filter = test_df[feature1].quantile(quantile)\n",
    "    else:\n",
    "        if feature1 == \"SignalConfidence\":\n",
    "            flags &= (test_df.SignalConfidence > 0.45) & (\n",
    "                test_df.SignalConfidence < 0.52\n",
    "            )\n",
    "        else:\n",
    "            flags &= test_df.spreadPcnt < test_df.spreadPcnt.quantile(1 - quantile)\n",
    "            f1Filter = test_df.spreadPcnt.quantile(1 - quantile)\n",
    "\n",
    "   \n",
    "    new_df = test_df[flags].copy()\n",
    "\n",
    "    newRowCount = new_df.shape[0]\n",
    "    nPossibleDays = new_df.groupby([\"ticker\", \"trade_date\"]).ngroups\n",
    "\n",
    "    new_df = dedup(new_df)\n",
    "\n",
    "    test_df[\"PNLasFrac\"].plot(\n",
    "        kind=\"hist\",\n",
    "        bins=np.linspace(-5, 1, 101),\n",
    "        density=True,\n",
    "        histtype=\"step\",\n",
    "        title=f\"The effect of filtering for {feature1} on PNL\",\n",
    "    )\n",
    "\n",
    "    new_df[\"PNLasFrac\"].plot(\n",
    "        kind=\"hist\",\n",
    "        bins=np.linspace(-5, 1, 101),\n",
    "        density=True,\n",
    "        histtype=\"step\",\n",
    "        color=color,\n",
    "    )\n",
    "    plt.savefig(f\"filterGraphs/{dRange[0]}-{dRange[1]}_{feature1}.jpg\")\n",
    "    plt.close()\n",
    "\n",
    "    df2 = pd.DataFrame(\n",
    "        data={\n",
    "            \"sample\": f\"{feature1}\",\n",
    "            \"PNLmean\": new_df[new_df.cBidPx != 0][\"PNLasFrac\"].mean(),\n",
    "            \"PNLsum\": new_df.PNL.sum(),\n",
    "            \"pctWins\": new_df[new_df.PNLasFrac > 0].shape[0]\n",
    "            / new_df.shape[0],  # percentage of trades which earned money\n",
    "            \"winPNLmean\": new_df[new_df.PNLasFrac > 0][\"PNLasFrac\"].mean(),\n",
    "            \"pctRowsLeft\": newRowCount / test_df.shape[0],\n",
    "            \"pctTradeOpportunitiesLeft\": (\n",
    "                nPossibleDays / test_df.groupby([\"ticker\", \"trade_date\"]).ngroups\n",
    "            ),  # comparing the number of ticker/trade date pairs after filtering\n",
    "            \"numTrades\": new_df.shape[0],\n",
    "            \"f1Filter\": f1Filter,\n",
    "            \"f2Filter\": \"N/A\",\n",
    "        },\n",
    "        index=[0],\n",
    "    )\n",
    "\n",
    "    return df2"
   ]
  },
  {
   "cell_type": "code",
   "execution_count": 10,
   "id": "8f3c2597-26ae-4eeb-aeb0-e8a17dacd069",
   "metadata": {
    "execution": {
     "iopub.execute_input": "2023-08-25T22:57:13.743037Z",
     "iopub.status.busy": "2023-08-25T22:57:13.742803Z",
     "iopub.status.idle": "2023-08-25T23:06:41.824762Z",
     "shell.execute_reply": "2023-08-25T23:06:41.823113Z",
     "shell.execute_reply.started": "2023-08-25T22:57:13.743012Z"
    }
   },
   "outputs": [],
   "source": [
    "# Applying the generation functions \n",
    "for dRange in dRanges:\n",
    "    # Creating restricted dataframe based on delta \n",
    "    flags = pd.Series(True, index=c_data.index)\n",
    "    flags &= c_data.delta > dRange[0]\n",
    "    flags &= c_data.delta < dRange[1]\n",
    "    test_df = c_data[flags].copy()\n",
    "\n",
    "    # Creating default row of our summary statistic dataframe\n",
    "    df = pd.DataFrame(\n",
    "        data={\n",
    "            \"sample\": \"default\",\n",
    "            \"PNLmean\": test_df[test_df.cBidPx != 0][\"PNLasFrac\"].mean(),\n",
    "            \"PNLsum\": test_df.PNL.sum(),\n",
    "            \"pctWins\": test_df[test_df.PNLasFrac > 0].shape[0] / test_df.shape[0],\n",
    "            \"winPNLmean\": test_df[test_df.PNLasFrac > 0][\"PNLasFrac\"].mean(),\n",
    "            \"pctDaysLeft\": 1,\n",
    "            \"pctRowsLeft\": 1,\n",
    "            \"numTrades\": test_df.shape[0],\n",
    "            \"f1Filter\": \"N/A\",\n",
    "            \"f2Filter\": \"N/A\",\n",
    "        },\n",
    "        index=[0],\n",
    "    )\n",
    "    \n",
    "    # Generating graph & stats for each feature pair\n",
    "    result = Parallel(n_jobs=-1)(\n",
    "        delayed(generateGraph)(combo, test_df) for combo in features\n",
    "    )\n",
    "    result = pd.concat(result, ignore_index=True) \n",
    "    \n",
    "    # Generating graph & stats for each individual feature \n",
    "    result2 = Parallel(n_jobs=-1)(\n",
    "        delayed(generateGraph1F)(feature, test_df) for feature in features1\n",
    "    )\n",
    "    result2 = pd.concat(result2, ignore_index=True)\n",
    "    \n",
    "    result = pd.concat([result, result2, df], ignore_index=True) # Combining all stat tables \n",
    "    result.to_csv(f\"filterGraphs/{dRange[0]}-{dRange[1]}overallStats.csv\") # Saving final table \n",
    "    "
   ]
  },
  {
   "cell_type": "markdown",
   "id": "b2b8d399-7ca6-48cc-8d51-16795f415391",
   "metadata": {},
   "source": [
    "#### Below are some examples of the generated plots and stats\n",
    "Importantly, in all plots the blue graph is the graph generated from the unfiltered data\n",
    "while the red graph is generated from the filtered data <br>\n",
    "    As a quick definition, PNL stands for profit and loss. Thus, these graphs serve as histograms of where different trades fall in terms of profitability"
   ]
  },
  {
   "cell_type": "code",
   "execution_count": 11,
   "id": "9c4f586c-0d46-42eb-a8c9-4006748d55c6",
   "metadata": {
    "execution": {
     "iopub.execute_input": "2023-08-25T23:06:41.827274Z",
     "iopub.status.busy": "2023-08-25T23:06:41.826933Z",
     "iopub.status.idle": "2023-08-25T23:06:41.846794Z",
     "shell.execute_reply": "2023-08-25T23:06:41.845611Z",
     "shell.execute_reply.started": "2023-08-25T23:06:41.827239Z"
    }
   },
   "outputs": [
    {
     "data": {
      "image/jpeg": "[encoded data removed]",
      "text/plain": [
       "<IPython.core.display.Image object>"
      ]
     },
     "execution_count": 11,
     "metadata": {},
     "output_type": "execute_result"
    }
   ],
   "source": [
    "Image(\"filterGraphs/0.05-0.1_ootmPct&mdv20.jpg\")"
   ]
  },
  {
   "cell_type": "code",
   "execution_count": 12,
   "id": "73a04ba1-2d53-40ee-b5d4-0a84a6fcaafa",
   "metadata": {
    "execution": {
     "iopub.execute_input": "2023-08-25T23:06:41.848183Z",
     "iopub.status.busy": "2023-08-25T23:06:41.847918Z",
     "iopub.status.idle": "2023-08-25T23:06:41.856830Z",
     "shell.execute_reply": "2023-08-25T23:06:41.855726Z",
     "shell.execute_reply.started": "2023-08-25T23:06:41.848154Z"
    }
   },
   "outputs": [
    {
     "data": {
      "image/jpeg": "[encoded data removed]",
      "text/plain": [
       "<IPython.core.display.Image object>"
      ]
     },
     "execution_count": 12,
     "metadata": {},
     "output_type": "execute_result"
    }
   ],
   "source": [
    "Image(\"filterGraphs/0.1-0.2_av20.jpg\")"
   ]
  },
  {
   "cell_type": "code",
   "execution_count": 13,
   "id": "7dd709b8-8d15-4c50-8770-3c571ceebfeb",
   "metadata": {
    "execution": {
     "iopub.execute_input": "2023-08-25T23:06:41.858094Z",
     "iopub.status.busy": "2023-08-25T23:06:41.857834Z",
     "iopub.status.idle": "2023-08-25T23:06:41.926444Z",
     "shell.execute_reply": "2023-08-25T23:06:41.925276Z",
     "shell.execute_reply.started": "2023-08-25T23:06:41.858067Z"
    }
   },
   "outputs": [],
   "source": [
    "# Consolidating all the stats into one dataframe\n",
    "df = pd.DataFrame(\n",
    "    columns=[\n",
    "        \"sample\",\n",
    "        \"PNLmean\",\n",
    "        \"pctWins\",\n",
    "        \"winPNLmean\",\n",
    "        \"pctTradeOpportunitiesLeft\",\n",
    "        \"pctRowsLeft\",\n",
    "        \"numTrades\",\n",
    "        \"f1Filter\",\n",
    "        \"f2Filter\",\n",
    "        \"deltaRange\",\n",
    "        \"PNLsum\",\n",
    "    ]\n",
    ")\n",
    "for dRange in dRanges:\n",
    "    df2 = pd.read_csv(f\"filterGraphs/{dRange[0]}-{dRange[1]}overallStats.csv\")\n",
    "    df2[\"deltaRange\"] = f\"{dRange[0]}-{dRange[1]}\"\n",
    "    df = pd.concat([df, df2], ignore_index=True)\n",
    "df = df.drop(columns=[\"Unnamed: 0\",'pctDaysLeft'])"
   ]
  },
  {
   "cell_type": "code",
   "execution_count": 14,
   "id": "93a53614-727c-44bf-b327-6a44084caa7c",
   "metadata": {
    "execution": {
     "iopub.execute_input": "2023-08-25T23:06:41.927736Z",
     "iopub.status.busy": "2023-08-25T23:06:41.927470Z",
     "iopub.status.idle": "2023-08-25T23:06:41.948223Z",
     "shell.execute_reply": "2023-08-25T23:06:41.947084Z",
     "shell.execute_reply.started": "2023-08-25T23:06:41.927708Z"
    }
   },
   "outputs": [
    {
     "data": {
      "text/html": [
       "<div>\n",
       "<style scoped>\n",
       "    .dataframe tbody tr th:only-of-type {\n",
       "        vertical-align: middle;\n",
       "    }\n",
       "\n",
       "    .dataframe tbody tr th {\n",
       "        vertical-align: top;\n",
       "    }\n",
       "\n",
       "    .dataframe thead th {\n",
       "        text-align: right;\n",
       "    }\n",
       "</style>\n",
       "<table border=\"1\" class=\"dataframe\">\n",
       "  <thead>\n",
       "    <tr style=\"text-align: right;\">\n",
       "      <th></th>\n",
       "      <th>sample</th>\n",
       "      <th>PNLmean</th>\n",
       "      <th>pctWins</th>\n",
       "      <th>winPNLmean</th>\n",
       "      <th>pctTradeOpportunitiesLeft</th>\n",
       "      <th>pctRowsLeft</th>\n",
       "      <th>numTrades</th>\n",
       "      <th>f1Filter</th>\n",
       "      <th>f2Filter</th>\n",
       "      <th>deltaRange</th>\n",
       "      <th>PNLsum</th>\n",
       "    </tr>\n",
       "  </thead>\n",
       "  <tbody>\n",
       "    <tr>\n",
       "      <th>0</th>\n",
       "      <td>SignalConfidence&amp;ootmPct</td>\n",
       "      <td>-8.471956</td>\n",
       "      <td>0.264622</td>\n",
       "      <td>0.631188</td>\n",
       "      <td>0.075960</td>\n",
       "      <td>0.056611</td>\n",
       "      <td>9455</td>\n",
       "      <td>NaN</td>\n",
       "      <td>1.170230e+00</td>\n",
       "      <td>0.05-0.1</td>\n",
       "      <td>-4802.57000</td>\n",
       "    </tr>\n",
       "    <tr>\n",
       "      <th>1</th>\n",
       "      <td>SignalConfidence&amp;spreadPcnt</td>\n",
       "      <td>-1.413163</td>\n",
       "      <td>0.590535</td>\n",
       "      <td>0.676208</td>\n",
       "      <td>0.091381</td>\n",
       "      <td>0.084390</td>\n",
       "      <td>13249</td>\n",
       "      <td>NaN</td>\n",
       "      <td>3.448276e-01</td>\n",
       "      <td>0.05-0.1</td>\n",
       "      <td>-3207.81000</td>\n",
       "    </tr>\n",
       "    <tr>\n",
       "      <th>2</th>\n",
       "      <td>SignalConfidence&amp;av20</td>\n",
       "      <td>-6.660029</td>\n",
       "      <td>0.507621</td>\n",
       "      <td>0.640509</td>\n",
       "      <td>0.031452</td>\n",
       "      <td>0.068107</td>\n",
       "      <td>2362</td>\n",
       "      <td>NaN</td>\n",
       "      <td>9.080050e+03</td>\n",
       "      <td>0.05-0.1</td>\n",
       "      <td>-1008.94006</td>\n",
       "    </tr>\n",
       "    <tr>\n",
       "      <th>3</th>\n",
       "      <td>SignalConfidence&amp;mdv20</td>\n",
       "      <td>-7.692929</td>\n",
       "      <td>0.509213</td>\n",
       "      <td>0.651878</td>\n",
       "      <td>0.033846</td>\n",
       "      <td>0.075287</td>\n",
       "      <td>2388</td>\n",
       "      <td>NaN</td>\n",
       "      <td>4.386530e+08</td>\n",
       "      <td>0.05-0.1</td>\n",
       "      <td>-1325.15990</td>\n",
       "    </tr>\n",
       "    <tr>\n",
       "      <th>4</th>\n",
       "      <td>SignalConfidence&amp;dummy</td>\n",
       "      <td>-9.025393</td>\n",
       "      <td>0.250933</td>\n",
       "      <td>0.601683</td>\n",
       "      <td>0.161524</td>\n",
       "      <td>0.179555</td>\n",
       "      <td>29478</td>\n",
       "      <td>NaN</td>\n",
       "      <td>NaN</td>\n",
       "      <td>0.05-0.1</td>\n",
       "      <td>-16508.55900</td>\n",
       "    </tr>\n",
       "  </tbody>\n",
       "</table>\n",
       "</div>"
      ],
      "text/plain": [
       "                        sample   PNLmean   pctWins  winPNLmean  \\\n",
       "0     SignalConfidence&ootmPct -8.471956  0.264622    0.631188   \n",
       "1  SignalConfidence&spreadPcnt -1.413163  0.590535    0.676208   \n",
       "2        SignalConfidence&av20 -6.660029  0.507621    0.640509   \n",
       "3       SignalConfidence&mdv20 -7.692929  0.509213    0.651878   \n",
       "4       SignalConfidence&dummy -9.025393  0.250933    0.601683   \n",
       "\n",
       "   pctTradeOpportunitiesLeft  pctRowsLeft numTrades  f1Filter      f2Filter  \\\n",
       "0                   0.075960     0.056611      9455       NaN  1.170230e+00   \n",
       "1                   0.091381     0.084390     13249       NaN  3.448276e-01   \n",
       "2                   0.031452     0.068107      2362       NaN  9.080050e+03   \n",
       "3                   0.033846     0.075287      2388       NaN  4.386530e+08   \n",
       "4                   0.161524     0.179555     29478       NaN           NaN   \n",
       "\n",
       "  deltaRange       PNLsum  \n",
       "0   0.05-0.1  -4802.57000  \n",
       "1   0.05-0.1  -3207.81000  \n",
       "2   0.05-0.1  -1008.94006  \n",
       "3   0.05-0.1  -1325.15990  \n",
       "4   0.05-0.1 -16508.55900  "
      ]
     },
     "execution_count": 14,
     "metadata": {},
     "output_type": "execute_result"
    }
   ],
   "source": [
    "df.head()"
   ]
  },
  {
   "cell_type": "code",
   "execution_count": 15,
   "id": "4f0a96e3-5108-44ab-889c-b2a77f397638",
   "metadata": {
    "execution": {
     "iopub.execute_input": "2023-08-25T23:06:41.949500Z",
     "iopub.status.busy": "2023-08-25T23:06:41.949215Z",
     "iopub.status.idle": "2023-08-25T23:06:42.014185Z",
     "shell.execute_reply": "2023-08-25T23:06:42.012548Z",
     "shell.execute_reply.started": "2023-08-25T23:06:41.949471Z"
    }
   },
   "outputs": [
    {
     "name": "stdout",
     "output_type": "stream",
     "text": [
      "Size of summary stats dataframe: (319, 11)\n"
     ]
    }
   ],
   "source": [
    "print('Size of summary stats dataframe:', df.shape)"
   ]
  },
  {
   "cell_type": "markdown",
   "id": "a4e5f327-4aeb-4357-8e5b-1a55afb8aba1",
   "metadata": {},
   "source": [
    "At this point, I sorted by average PNL to find the best filtering. However, I also used the other statistics to provide context to each example. "
   ]
  }
 ],
 "metadata": {
  "kernelspec": {
   "display_name": "oscarResearch2",
   "language": "python",
   "name": "oscarresearch2"
  },
  "language_info": {
   "codemirror_mode": {
    "name": "ipython",
    "version": 3
   },
   "file_extension": ".py",
   "mimetype": "text/x-python",
   "name": "python",
   "nbconvert_exporter": "python",
   "pygments_lexer": "ipython3",
   "version": "3.8.10"
  }
 },
 "nbformat": 4,
 "nbformat_minor": 5
}
